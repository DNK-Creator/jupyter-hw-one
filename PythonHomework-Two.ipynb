{
 "cells": [
  {
   "cell_type": "code",
   "execution_count": 16,
   "id": "19bb072e-af0b-42e8-8c6a-a3a0d63a2f06",
   "metadata": {},
   "outputs": [],
   "source": [
    "# Задание 1"
   ]
  },
  {
   "cell_type": "code",
   "execution_count": 17,
   "id": "261d479d-d23e-4a4f-b84e-b52ef9be05e3",
   "metadata": {},
   "outputs": [],
   "source": [
    "word = 'test'"
   ]
  },
  {
   "cell_type": "code",
   "execution_count": 18,
   "id": "8554916e-e172-402f-93b2-5372a3c51bba",
   "metadata": {},
   "outputs": [
    {
     "name": "stdout",
     "output_type": "stream",
     "text": [
      "es"
     ]
    }
   ],
   "source": [
    "for i, char in enumerate(word):\n",
    "    if i == (len(word) // 2):\n",
    "        if len(word) % 2 == 0:\n",
    "            print(word[i - 1], end=\"\")\n",
    "        print(char, end=\"\")\n",
    "        break"
   ]
  },
  {
   "cell_type": "code",
   "execution_count": null,
   "id": "0c5d88ec-22c2-4691-81c9-3af33f1cf494",
   "metadata": {},
   "outputs": [],
   "source": []
  },
  {
   "cell_type": "code",
   "execution_count": 19,
   "id": "1589670f-3ca6-489e-a0ee-6cdc7e806fd0",
   "metadata": {},
   "outputs": [],
   "source": [
    "# Задание 2"
   ]
  },
  {
   "cell_type": "code",
   "execution_count": 31,
   "id": "ec0c0c23-d56d-4e11-b11e-cfad7cabbd9d",
   "metadata": {},
   "outputs": [],
   "source": [
    "boys = ['Peter', 'Alex', 'John', 'Arthur', 'Richard']"
   ]
  },
  {
   "cell_type": "code",
   "execution_count": 32,
   "id": "c1f15b1e-306a-4b06-a513-4715eb52a79f",
   "metadata": {},
   "outputs": [],
   "source": [
    "girls = ['Kate', 'Liza', 'Kira', 'Emma', 'Trisha']"
   ]
  },
  {
   "cell_type": "code",
   "execution_count": 33,
   "id": "c588599c-1605-46d6-904e-83728167ae49",
   "metadata": {},
   "outputs": [
    {
     "name": "stdout",
     "output_type": "stream",
     "text": [
      "Alex и Emma\n",
      "Arthur и Kate\n",
      "John и Kira\n",
      "Peter и Liza\n",
      "Richard и Trisha\n"
     ]
    }
   ],
   "source": [
    "if min(len(boys), len(girls)) > 0 and len(boys) != len(girls):\n",
    "    print('Внимание, кто-то может остаться без пары')\n",
    "else:\n",
    "    boys_sorted = sorted(boys)\n",
    "    girls_sorted = sorted(girls)\n",
    "    for user_index in range(min(len(boys_sorted), len(girls_sorted))):\n",
    "        print(boys_sorted[user_index] + \" \" + \"и\" + \" \" + girls_sorted[user_index])"
   ]
  },
  {
   "cell_type": "code",
   "execution_count": null,
   "id": "fa67059d-4554-485b-a0f9-11d2b80fb722",
   "metadata": {},
   "outputs": [],
   "source": []
  }
 ],
 "metadata": {
  "kernelspec": {
   "display_name": "Python [conda env:base] *",
   "language": "python",
   "name": "conda-base-py"
  },
  "language_info": {
   "codemirror_mode": {
    "name": "ipython",
    "version": 3
   },
   "file_extension": ".py",
   "mimetype": "text/x-python",
   "name": "python",
   "nbconvert_exporter": "python",
   "pygments_lexer": "ipython3",
   "version": "3.13.5"
  }
 },
 "nbformat": 4,
 "nbformat_minor": 5
}
