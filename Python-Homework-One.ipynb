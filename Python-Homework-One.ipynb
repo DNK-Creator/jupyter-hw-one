{
 "cells": [
  {
   "cell_type": "code",
   "execution_count": 41,
   "id": "75e3569f-07c3-4ddb-b7d2-d1807f507175",
   "metadata": {},
   "outputs": [],
   "source": [
    "# ЗАДАНИЕ 1:"
   ]
  },
  {
   "cell_type": "code",
   "execution_count": 42,
   "id": "4cbb2f80-cd39-452b-91da-3bf29ee87de6",
   "metadata": {},
   "outputs": [],
   "source": [
    "def check_year_type(year):\n",
    "    if year % 400 == 0 or (year % 4 == 0 and year % 100 != 0):\n",
    "        return 'Високосный год'\n",
    "    else:\n",
    "        return 'Обычный год'"
   ]
  },
  {
   "cell_type": "code",
   "execution_count": 43,
   "id": "eac2767a-914a-4214-835b-ed5468d0333c",
   "metadata": {},
   "outputs": [],
   "source": [
    "year = 2024"
   ]
  },
  {
   "cell_type": "code",
   "execution_count": 44,
   "id": "f23fb423-2bcf-4a50-bfbf-47d65fb3ad7e",
   "metadata": {},
   "outputs": [
    {
     "name": "stdout",
     "output_type": "stream",
     "text": [
      "Високосный год\n"
     ]
    }
   ],
   "source": [
    "print(check_year_type(year))"
   ]
  },
  {
   "cell_type": "code",
   "execution_count": 46,
   "id": "856d87ad-b59b-40c8-ac81-448166eebeea",
   "metadata": {},
   "outputs": [],
   "source": [
    "# ЗАДАНИЕ 2:"
   ]
  },
  {
   "cell_type": "code",
   "execution_count": 81,
   "id": "a855fc6b-1346-4196-8c1e-c1605700a9c3",
   "metadata": {},
   "outputs": [],
   "source": [
    "def is_lucky(num):\n",
    "    if len(str(num)) != 6:\n",
    "        return 'Ошибка, введено не шестизначное число'\n",
    "        \n",
    "    first_three = str(num)[0:3]\n",
    "    second_three = str(num)[3:6]\n",
    "    first_sum = 0\n",
    "    second_sum = 0\n",
    "    \n",
    "    for x in first_three:\n",
    "        first_sum += int(x)\n",
    "    for y in second_three:\n",
    "        second_sum += int(y)\n",
    "        \n",
    "    return first_sum == second_sum\n",
    "    "
   ]
  },
  {
   "cell_type": "code",
   "execution_count": 88,
   "id": "9655aa69-36b6-4d5d-a350-af87b087b12c",
   "metadata": {},
   "outputs": [],
   "source": [
    "number = 123123"
   ]
  },
  {
   "cell_type": "code",
   "execution_count": 90,
   "id": "ed7f6ca4-e5a7-480d-8173-dde0fcd5a0d0",
   "metadata": {},
   "outputs": [
    {
     "data": {
      "text/plain": [
       "True"
      ]
     },
     "execution_count": 90,
     "metadata": {},
     "output_type": "execute_result"
    }
   ],
   "source": [
    "is_lucky(number)"
   ]
  },
  {
   "cell_type": "code",
   "execution_count": null,
   "id": "7e67e2ce-c544-4d02-b484-83789dc19b36",
   "metadata": {},
   "outputs": [],
   "source": []
  }
 ],
 "metadata": {
  "kernelspec": {
   "display_name": "Python 3 (ipykernel)",
   "language": "python",
   "name": "python3"
  },
  "language_info": {
   "codemirror_mode": {
    "name": "ipython",
    "version": 3
   },
   "file_extension": ".py",
   "mimetype": "text/x-python",
   "name": "python",
   "nbconvert_exporter": "python",
   "pygments_lexer": "ipython3",
   "version": "3.13.5"
  }
 },
 "nbformat": 4,
 "nbformat_minor": 5
}
